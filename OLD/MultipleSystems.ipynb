{
 "cells": [
  {
   "cell_type": "code",
   "execution_count": 2,
   "id": "6b003161-4e84-4b02-a653-47ca467cff98",
   "metadata": {},
   "outputs": [],
   "source": [
    "from qiskit.quantum_info import Statevector, Operator\n",
    "import numpy as np"
   ]
  },
  {
   "cell_type": "code",
   "execution_count": 27,
   "id": "3143e93f-bde1-4c44-92fb-dca4a88b22a7",
   "metadata": {},
   "outputs": [
    {
     "data": {
      "text/latex": [
       "$$ |01\\rangle$$"
      ],
      "text/plain": [
       "<IPython.core.display.Latex object>"
      ]
     },
     "execution_count": 27,
     "metadata": {},
     "output_type": "execute_result"
    }
   ],
   "source": [
    "zero, one = Statevector.from_label(\"0\"), Statevector.from_label(\"1\")\n",
    "psi = zero.tensor(one)\n",
    "psi.draw('latex')"
   ]
  },
  {
   "cell_type": "code",
   "execution_count": 28,
   "id": "daadd1ff-7f26-4469-96fb-cca128cd4aae",
   "metadata": {},
   "outputs": [
    {
     "data": {
      "text/latex": [
       "$$\n",
       "\n",
       "\\begin{bmatrix}\n",
       "1 & 0 & 0 & 0  \\\\\n",
       " 0 & 1 & 0 & 0  \\\\\n",
       " 0 & 0 & 0 & 1  \\\\\n",
       " 0 & 0 & 1 & 0  \\\\\n",
       " \\end{bmatrix}\n",
       "$$"
      ],
      "text/plain": [
       "<IPython.core.display.Latex object>"
      ]
     },
     "execution_count": 28,
     "metadata": {},
     "output_type": "execute_result"
    }
   ],
   "source": [
    "# Controlled not\n",
    "X0 = Operator([[1, 0], [0, 0]])\n",
    "X1 = Operator([[0, 0], [0, 1]])\n",
    "I = Operator([[1, 0], [0, 1]])\n",
    "N = Operator([[0, 1], [1, 0]])\n",
    "CN = X0.tensor(I) + X1.tensor(N)\n",
    "CN.draw('latex')"
   ]
  },
  {
   "cell_type": "code",
   "execution_count": 29,
   "id": "1c593a15-1fea-4c07-85f8-5e952abb2fac",
   "metadata": {},
   "outputs": [
    {
     "data": {
      "text/latex": [
       "$$ |01\\rangle$$"
      ],
      "text/plain": [
       "<IPython.core.display.Latex object>"
      ]
     },
     "execution_count": 29,
     "metadata": {},
     "output_type": "execute_result"
    }
   ],
   "source": [
    "e_psi = psi.evolve(CN)\n",
    "e_psi.draw('latex')"
   ]
  },
  {
   "cell_type": "code",
   "execution_count": 31,
   "id": "196bd9e2-adc9-4b7a-8850-dba667da7dc5",
   "metadata": {},
   "outputs": [
    {
     "data": {
      "text/latex": [
       "$$\\frac{\\sqrt{2}}{2} |0\\rangle- \\frac{\\sqrt{2}}{2} |1\\rangle$$"
      ],
      "text/plain": [
       "<IPython.core.display.Latex object>"
      ]
     },
     "execution_count": 31,
     "metadata": {},
     "output_type": "execute_result"
    }
   ],
   "source": [
    "psiPlus = Statevector.from_label('0') / np.sqrt(2) - Statevector.from_label('1') / np.sqrt(2)\n",
    "psiPlus.draw('latex')"
   ]
  },
  {
   "cell_type": "code",
   "execution_count": 32,
   "id": "62cfe74e-e65e-4da8-8b6a-b65553cc2547",
   "metadata": {},
   "outputs": [
    {
     "data": {
      "text/latex": [
       "$$\\frac{1}{2} |00\\rangle- \\frac{1}{2} |01\\rangle- \\frac{1}{2} |10\\rangle+\\frac{1}{2} |11\\rangle$$"
      ],
      "text/plain": [
       "<IPython.core.display.Latex object>"
      ]
     },
     "execution_count": 32,
     "metadata": {},
     "output_type": "execute_result"
    }
   ],
   "source": [
    "psiPlus2 = psiPlus.tensor(psiPlus)\n",
    "psiPlus2.draw('latex')"
   ]
  },
  {
   "cell_type": "code",
   "execution_count": 33,
   "id": "4551fb9e-c1a0-4536-b1c8-0f1915637606",
   "metadata": {},
   "outputs": [
    {
     "name": "stdout",
     "output_type": "stream",
     "text": [
      "1\n"
     ]
    },
    {
     "data": {
      "text/latex": [
       "$$- \\frac{\\sqrt{2}}{2} |10\\rangle+\\frac{\\sqrt{2}}{2} |11\\rangle$$"
      ],
      "text/plain": [
       "<IPython.core.display.Latex object>"
      ]
     },
     "execution_count": 33,
     "metadata": {},
     "output_type": "execute_result"
    }
   ],
   "source": [
    "result, new_state = psiPlus2.measure([1])\n",
    "print(result)\n",
    "new_state.draw('latex')"
   ]
  },
  {
   "cell_type": "code",
   "execution_count": null,
   "id": "58cf19a2-fd7d-4d00-9b50-20cc88b80127",
   "metadata": {},
   "outputs": [],
   "source": []
  }
 ],
 "metadata": {
  "kernelspec": {
   "display_name": "Python 3 (ipykernel)",
   "language": "python",
   "name": "python3"
  },
  "language_info": {
   "codemirror_mode": {
    "name": "ipython",
    "version": 3
   },
   "file_extension": ".py",
   "mimetype": "text/x-python",
   "name": "python",
   "nbconvert_exporter": "python",
   "pygments_lexer": "ipython3",
   "version": "3.10.7"
  }
 },
 "nbformat": 4,
 "nbformat_minor": 5
}
