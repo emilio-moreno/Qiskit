{
 "cells": [
  {
   "cell_type": "code",
   "execution_count": 1,
   "id": "e3dbdb73-834d-48df-8a39-fb0db7489c04",
   "metadata": {},
   "outputs": [],
   "source": [
    "import qiskit"
   ]
  },
  {
   "cell_type": "code",
   "execution_count": 2,
   "id": "9bf02d06-67f8-4061-bc4d-eecb7920dea6",
   "metadata": {},
   "outputs": [
    {
     "data": {
      "text/plain": [
       "'1.3.0'"
      ]
     },
     "execution_count": 2,
     "metadata": {},
     "output_type": "execute_result"
    }
   ],
   "source": [
    "qiskit.__version__"
   ]
  },
  {
   "cell_type": "code",
   "execution_count": 4,
   "id": "3faa1b7b-66da-414d-ae89-95a73353aa6f",
   "metadata": {},
   "outputs": [],
   "source": [
    "from qiskit_ibm_runtime import QiskitRuntimeService\n",
    "service = QiskitRuntimeService(channel='ibm_quantum',\n",
    "                              token='3aca07bea8f8001aad1b0452cdc3ac6c3ab6da23609596cbb18472853ff31f880482e1b669b863f1fb4ec5bd8ef08deff1c655ff1548c0a85a5ccae8e32114c4')"
   ]
  },
  {
   "cell_type": "code",
   "execution_count": 5,
   "id": "20e4413c-85dd-4433-9c0f-78f087447087",
   "metadata": {},
   "outputs": [],
   "source": [
    "backend = service.backend(name=\"ibm_brisbane\")"
   ]
  },
  {
   "cell_type": "code",
   "execution_count": 7,
   "id": "e980ef8a-63bb-4524-990a-f2b9cb1d7a22",
   "metadata": {},
   "outputs": [
    {
     "data": {
      "text/plain": [
       "127"
      ]
     },
     "execution_count": 7,
     "metadata": {},
     "output_type": "execute_result"
    }
   ],
   "source": [
    "backend.num_qubits"
   ]
  },
  {
   "cell_type": "code",
   "execution_count": 46,
   "id": "09cac748-96c9-45ba-a1b9-689be0366314",
   "metadata": {},
   "outputs": [],
   "source": [
    "import numpy as np\n",
    "from qiskit.quantum_info import Statevector\n",
    "u = Statevector([3 / 5, 4 / 5])"
   ]
  },
  {
   "cell_type": "code",
   "execution_count": 47,
   "id": "5a6e37c1-0a69-4881-a070-ac79cf0f909c",
   "metadata": {},
   "outputs": [
    {
     "data": {
      "text/latex": [
       "$$\\frac{3}{5} |0\\rangle+\\frac{4}{5} |1\\rangle$$"
      ],
      "text/plain": [
       "<IPython.core.display.Latex object>"
      ]
     },
     "execution_count": 47,
     "metadata": {},
     "output_type": "execute_result"
    }
   ],
   "source": [
    "u.draw('latex')"
   ]
  },
  {
   "cell_type": "code",
   "execution_count": 48,
   "id": "d0677e1a-1450-4a8d-ad3d-eea4ac751528",
   "metadata": {},
   "outputs": [
    {
     "data": {
      "text/plain": [
       "True"
      ]
     },
     "execution_count": 48,
     "metadata": {},
     "output_type": "execute_result"
    }
   ],
   "source": [
    "# Normalized?\n",
    "u.is_valid()"
   ]
  },
  {
   "cell_type": "code",
   "execution_count": 56,
   "id": "32fb2046-3b06-445e-8057-c678b814ed76",
   "metadata": {},
   "outputs": [
    {
     "data": {
      "text/latex": [
       "$$ |1\\rangle$$"
      ],
      "text/plain": [
       "<IPython.core.display.Latex object>"
      ]
     },
     "execution_count": 56,
     "metadata": {},
     "output_type": "execute_result"
    }
   ],
   "source": [
    "# Measure may yield result multiplied by a global phase.\n",
    "u.measure()[1].draw('latex')"
   ]
  },
  {
   "cell_type": "code",
   "execution_count": 62,
   "id": "adc872c6-79fa-4ecc-a74f-61fcccdcddd8",
   "metadata": {},
   "outputs": [
    {
     "data": {
      "image/png": "[encoded data removed]",
      "text/plain": [
       "<Figure size 640x480 with 1 Axes>"
      ]
     },
     "execution_count": 62,
     "metadata": {},
     "output_type": "execute_result"
    }
   ],
   "source": [
    "# Simulations and visualization\n",
    "from qiskit.visualization import plot_histogram\n",
    "stats = u.sample_counts(300)\n",
    "plot_histogram(stats)"
   ]
  },
  {
   "cell_type": "code",
   "execution_count": 67,
   "id": "1e2f5710-40ab-4c6a-bdcc-f805f384ee11",
   "metadata": {},
   "outputs": [
    {
     "data": {
      "text/latex": [
       "$$\\frac{21}{5} |0\\rangle+\\frac{111}{5} |1\\rangle$$"
      ],
      "text/plain": [
       "<IPython.core.display.Latex object>"
      ]
     },
     "execution_count": 67,
     "metadata": {},
     "output_type": "execute_result"
    }
   ],
   "source": [
    "# Operators\n",
    "from qiskit.quantum_info import Operator\n",
    "U = Operator([[3, 3], [33, 3]])\n",
    "u.evolve(U).draw('latex')"
   ]
  },
  {
   "cell_type": "code",
   "execution_count": 78,
   "id": "e107eaf8-b159-47e1-9c3e-c3f5d011a335",
   "metadata": {},
   "outputs": [
    {
     "data": {
      "text/latex": [
       "$$- 0.1414213562 i |0\\rangle+0.9899494937 |1\\rangle$$"
      ],
      "text/plain": [
       "<IPython.core.display.Latex object>"
      ]
     },
     "execution_count": 78,
     "metadata": {},
     "output_type": "execute_result"
    }
   ],
   "source": [
    "# Quantum circuits\n",
    "from qiskit import QuantumCircuit\n",
    "circuit = QuantumCircuit(1)\n",
    "\n",
    "circuit.h(0)\n",
    "circuit.s(0)\n",
    "circuit.x(0)\n",
    "circuit.draw()\n",
    "\n",
    "# Evolve doesn't overwrite original u, we need to \n",
    "# assign to new variable.\n",
    "u = u.evolve(circuit)\n",
    "u.draw('latex')"
   ]
  },
  {
   "cell_type": "code",
   "execution_count": 79,
   "id": "c9fbd4f9-333d-42e2-90b9-da16080b3bdf",
   "metadata": {},
   "outputs": [
    {
     "data": {
      "image/png": "[encoded data removed]",
      "text/plain": [
       "<Figure size 640x480 with 1 Axes>"
      ]
     },
     "execution_count": 79,
     "metadata": {},
     "output_type": "execute_result"
    }
   ],
   "source": [
    "stats = u.sample_counts(1000)\n",
    "plot_histogram(stats)"
   ]
  },
  {
   "cell_type": "code",
   "execution_count": null,
   "id": "00d1fc45-99e3-48f6-9dd9-07ddd9d68af5",
   "metadata": {},
   "outputs": [],
   "source": []
  }
 ],
 "metadata": {
  "kernelspec": {
   "display_name": "Python 3 (ipykernel)",
   "language": "python",
   "name": "python3"
  },
  "language_info": {
   "codemirror_mode": {
    "name": "ipython",
    "version": 3
   },
   "file_extension": ".py",
   "mimetype": "text/x-python",
   "name": "python",
   "nbconvert_exporter": "python",
   "pygments_lexer": "ipython3",
   "version": "3.10.7"
  }
 },
 "nbformat": 4,
 "nbformat_minor": 5
}
